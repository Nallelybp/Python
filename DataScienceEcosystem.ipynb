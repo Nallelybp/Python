{
 "cells": [
  {
   "cell_type": "markdown",
   "id": "2e4d158e-f5ab-415d-a2a9-ce4511e8cb49",
   "metadata": {},
   "source": [
    "# Data Science Tools and Ecosystem"
   ]
  },
  {
   "cell_type": "markdown",
   "id": "e6f6f349-0259-413a-82b6-aff27c3edf38",
   "metadata": {},
   "source": [
    "## In this notebook, Data Science Tools and Ecosystem are summarized."
   ]
  },
  {
   "cell_type": "markdown",
   "id": "f6c3ddc8-1429-486d-80e2-1f6ee85cc47f",
   "metadata": {},
   "source": [
    "#### ***Objectives:***\n",
    "- List popular languages for Data Science\n",
    "- List Data Scientist libraries\n",
    "- List Data Science tools\n",
    "- Evaluate arithmetic expressions\n",
    "- Code an expression to convert 200 minutes to hours"
   ]
  },
  {
   "cell_type": "markdown",
   "id": "c19f6685-8133-4ad8-8ebb-9f8883065a03",
   "metadata": {},
   "source": [
    "### Some of the popular languages that Data Scientists use are:"
   ]
  },
  {
   "cell_type": "markdown",
   "id": "c272a145-d3dd-42db-815d-8b98fdc7d591",
   "metadata": {},
   "source": [
    "1. Python \n",
    "2. R\n",
    "3. SAS\n"
   ]
  },
  {
   "cell_type": "markdown",
   "id": "ec9a8f12-5550-4e40-a4c9-2028f03abd55",
   "metadata": {},
   "source": [
    "### Some of the commonly used libraries used by Data Scientists include:"
   ]
  },
  {
   "cell_type": "markdown",
   "id": "b0b1a0bc-93c4-4345-8840-f5f5ca2c9b5c",
   "metadata": {},
   "source": [
    "1. Numpy\n",
    "2. Pandas\n",
    "3. Matplotlib\n",
    "4. Scikit-learn\n",
    "5. TensorFlow\n"
   ]
  },
  {
   "cell_type": "markdown",
   "id": "31bf1c45-c253-401a-9e61-8e8d3da755f6",
   "metadata": {},
   "source": [
    "| Data Science Tools | \n",
    "| -------------| \n",
    "| VS Code | \n",
    "| RStudio |\n",
    "| Spyder | "
   ]
  },
  {
   "cell_type": "markdown",
   "id": "74fbda17-700a-4669-a5b5-bf387212f8b4",
   "metadata": {},
   "source": [
    "### Below are a few examples of evaluating arithmetic expressions in Python"
   ]
  },
  {
   "cell_type": "markdown",
   "id": "8b37287c-a7ce-4a97-8bfe-7ac329a9aad9",
   "metadata": {},
   "source": [
    "#### Basic Arithmetic Operators\n",
    "- **Addition (`+`)**: Adds two numbers.  \n",
    "- **Subtraction (`-`)**: Subtracts the second number from the first.  \n",
    "- **Multiplication (`*`)**: Multiplies two numbers.  \n",
    "- **Division (`/`)**: Divides the first number by the second.  \n",
    "- **Exponentiation (`**`)**: Raises a number to the power of another.  \n",
    "- **Modulus (`%`)**: Returns the remainder of a division.  \n",
    "- **Floor Division (`//`)**: Returns the quotient without the remainder."
   ]
  },
  {
   "cell_type": "code",
   "execution_count": 27,
   "id": "a0b66d5f-adb6-43f6-84f2-87548975cd8a",
   "metadata": {},
   "outputs": [
    {
     "data": {
      "text/plain": [
       "17"
      ]
     },
     "execution_count": 27,
     "metadata": {},
     "output_type": "execute_result"
    }
   ],
   "source": [
    "#  This a simple arithmetic expression to mutiply then add integers\n",
    "(3*4)+5"
   ]
  },
  {
   "cell_type": "code",
   "execution_count": 40,
   "id": "b88b88a8-a3cf-4d38-ba6a-3fd97b5ff4b2",
   "metadata": {},
   "outputs": [
    {
     "name": "stdout",
     "output_type": "stream",
     "text": [
      "200 minutos equivalen a 3.3333333333333335 horas\n"
     ]
    }
   ],
   "source": [
    "#This will convert 200 minutes to hours by diving by 60\n",
    "hours= 200/60\n",
    "print(f\"200 minutos equivalen a {hours} horas\")"
   ]
  },
  {
   "cell_type": "markdown",
   "id": "7aefdcc4-c6d5-44d5-a755-31be7807c0ef",
   "metadata": {},
   "source": [
    "## Author\n",
    "Nallely Bautista"
   ]
  },
  {
   "cell_type": "code",
   "execution_count": null,
   "id": "ffca5eed-9d09-418a-896b-ac9c47a3e51c",
   "metadata": {},
   "outputs": [],
   "source": []
  }
 ],
 "metadata": {
  "kernelspec": {
   "display_name": "Python 3 (ipykernel)",
   "language": "python",
   "name": "python3"
  },
  "language_info": {
   "codemirror_mode": {
    "name": "ipython",
    "version": 3
   },
   "file_extension": ".py",
   "mimetype": "text/x-python",
   "name": "python",
   "nbconvert_exporter": "python",
   "pygments_lexer": "ipython3",
   "version": "3.12.4"
  }
 },
 "nbformat": 4,
 "nbformat_minor": 5
}
